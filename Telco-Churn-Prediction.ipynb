{
 "cells": [
  {
   "cell_type": "markdown",
   "id": "4a19d3ae-3b14-4142-8d31-1b9bc0def652",
   "metadata": {},
   "source": [
    "## Project Description\n",
    "We are going to use machine learning to predict churn.\n",
    "Churn is when customers stop using the services of a company. Thus, churn pre- diction is about identifying customers who are likely to cancel their contracts soon.\n",
    "If the company can do that, it can offer discounts on these services in an effort to keep the users.\n",
    "\n",
    "## Objective\n",
    "Naturally, we can use machine learning for that: we can use past data about customers who churned and, based on that, create a model for identifying present customers who are about to leave. This is a binary classification problem. \n",
    "\n",
    "## Data Description\n",
    "The target variable that we want to predict is categorical and has only two possible outcomes:churn or not churn.\n"
   ]
  }
 ],
 "metadata": {
  "kernelspec": {
   "display_name": "",
   "name": ""
  },
  "language_info": {
   "name": ""
  }
 },
 "nbformat": 4,
 "nbformat_minor": 5
}
